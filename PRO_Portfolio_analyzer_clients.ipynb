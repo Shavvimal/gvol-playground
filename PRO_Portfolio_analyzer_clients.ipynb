{
 "cells": [
  {
   "cell_type": "code",
   "execution_count": null,
   "id": "57fc2935",
   "metadata": {},
   "outputs": [],
   "source": [
    "import pandas as pd\n",
    "pd.set_option('display.float_format', lambda x: '%.4f' % x)\n",
    "\n",
    "from dotenv import load_dotenv\n",
    "load_dotenv()\n",
    "import os\n",
    "\n",
    "\n",
    "import numpy as np\n",
    "np.set_printoptions(suppress=True)\n",
    "\n",
    "import ccxt\n",
    "import datetime\n",
    "from datetime import date\n",
    "import mibian\n",
    "\n",
    "from pandas.io.json import json_normalize\n",
    "\n",
    "import scipy.interpolate as interpolate\n",
    "from scipy.interpolate import interp1d\n",
    "\n",
    "from plotly.subplots import make_subplots\n",
    "import plotly.graph_objects as go\n",
    "import plotly.express as px\n",
    "pd.options.plotting.backend = \"plotly\"\n",
    "\n",
    "import warnings\n",
    "warnings.filterwarnings('ignore')\n",
    "\n",
    "\n",
    "deribit = ccxt.deribit()\n",
    "deribit.apiKey = os.getenv('DERIBIT_KEY')\n",
    "#deribit.apiKey = 'DERIBIT_KEY'\n",
    "deribit.secret = os.getenv('DERIBIT_SECRET')\n",
    "#deribit.secret = 'DERIBIT_SECRET'\n",
    "\n",
    "##GVOL API ENDPOINTS \n",
    "from gvol import GVol\n",
    "GVOL_API_KEY = os.getenv('GVOL_API_KEY') #VARIABLE CONTAINED IN .ENV FILE\n",
    "#GVOL_API_KEY = 'GVOL_API_KEY'\n",
    "gvol_client = GVol(header='x-oracle',gvol_api_key=GVOL_API_KEY)\n",
    "\n",
    "###SELECT CURRENCY BTC/ETH\n",
    "symbol ='BTC'\n",
    "\n",
    "##OPTIONS CHAIN AND CREATING INSTRUMENTS DF FOR AUTOCOMPLETATION\n",
    "instruments = pd.json_normalize(deribit.public_get_get_instruments({'currency':symbol,'kind':'option'})['result'])\n",
    "instruments = instruments.sort_values(['expiration_timestamp','strike'])\n",
    "instruments = pd.DataFrame(instruments['instrument_name'],columns=instruments['instrument_name'])"
   ]
  },
  {
   "cell_type": "code",
   "execution_count": null,
   "id": "bce95395",
   "metadata": {},
   "outputs": [],
   "source": [
    "### RETRIEVE INFORMATION OF ACTUAL PORTFOLIO FOR CURRENCY. COMMENT FOLLOW ROWS IF DONT HAVE POSITIONS\n",
    "\n",
    "#portfolio = pd.json_normalize(deribit.private_get_get_positions({'currency':symbol})['result'])\n",
    "#book = portfolio[portfolio['kind']=='option'][['instrument_name','size']]\n",
    "#deltas_book = portfolio[portfolio['kind']=='future']['delta'].astype(float).sum()\n",
    "\n",
    "#simulation = []\n",
    "#for inst, size in zip(book['instrument_name'],book['size']):\n",
    "#    simulation.append({'instrument':inst,'size':float(size)})\n",
    "    \n",
    "\n",
    "#print ('Deltas of book: ' +str(deltas_book))\n",
    "#simulation"
   ]
  },
  {
   "cell_type": "code",
   "execution_count": null,
   "id": "163e1d9c",
   "metadata": {},
   "outputs": [],
   "source": [
    "### CREATE YOUR SIMULATION HERE \n",
    "deltas_book = 0\n",
    "simulation = [\n",
    "             {'instrument': 'BTC-30SEP22-20000-C', 'size': 250},\n",
    "             {'instrument': 'BTC-30SEP22-25000-C', 'size': -500},\n",
    "             {'instrument': 'BTC-30SEP22-30000-C', 'size': 250},         \n",
    "             ]"
   ]
  },
  {
   "cell_type": "code",
   "execution_count": null,
   "id": "0636db67",
   "metadata": {},
   "outputs": [],
   "source": [
    "%%time\n",
    "data = gvol_client.portfolio_analyzer(portfolio=simulation,deltaFutures=deltas_book)\n",
    "\n",
    "book =pd.json_normalize(data['PortfolioAnalyzer'])\n",
    "df = book\n",
    "df['index'] = df['index'].astype(int)\n",
    "#df.set_index('indexChange',inplace=True)"
   ]
  },
  {
   "cell_type": "code",
   "execution_count": null,
   "id": "a09c4e0d",
   "metadata": {},
   "outputs": [],
   "source": [
    "## Insert manually your equity\n",
    "equity = 0\n",
    "df['equity'] = (df['PnL'] + equity).round(4)\n",
    "df['equityUSD'] = (df['equity'] * df['index']).astype(int)"
   ]
  },
  {
   "cell_type": "code",
   "execution_count": null,
   "id": "def42a70",
   "metadata": {
    "scrolled": true
   },
   "outputs": [],
   "source": [
    "col = ['PnL','PnLUSD','deltaBSM','deltaCash','deltaSkew','gamma','vega','wVega','theta','equity','equityUSD','days']\n",
    "\n",
    "\n",
    "print ('')\n",
    "print ('PORTFOLIO ANALYZER TABLE')\n",
    "display(df[df['days']==0].iloc[50:115:5].set_index('index')[col]\\\n",
    ".style.format({\n",
    "            'PnL':\"{:20,.4f}\",\n",
    "             'PnLUSD':\"${:20,.0f}\",\n",
    "             'deltaBSM':\"{:20,.2f}\",\n",
    "               'deltaCash':\"{:20,.2f}\",\n",
    "               'deltaSkew':\"{:20,.2f}\",\n",
    "             'gamma':\"{:20.4f}\",\n",
    "              'vega':\"{:20.0f}\",\n",
    "              'wVega':\"{:20,.0f}\",\n",
    "            'theta':\"{:20,.0f}\",\n",
    "            'index':\"${:20,.0f}\",\n",
    "            'equity':\"{:20,.4f}\",\n",
    "            'equityUSD':\"${:20,.0f}\",\n",
    "            'days':\"{:20,.0f}\"\n",
    "\n",
    "}))"
   ]
  },
  {
   "cell_type": "code",
   "execution_count": null,
   "id": "677782cd",
   "metadata": {
    "scrolled": false
   },
   "outputs": [],
   "source": [
    "%run Portfolio_analyzer_clients_charts.ipynb"
   ]
  }
 ],
 "metadata": {
  "kernelspec": {
   "display_name": "Python 3 (ipykernel)",
   "language": "python",
   "name": "python3"
  },
  "language_info": {
   "codemirror_mode": {
    "name": "ipython",
    "version": 3
   },
   "file_extension": ".py",
   "mimetype": "text/x-python",
   "name": "python",
   "nbconvert_exporter": "python",
   "pygments_lexer": "ipython3",
   "version": "3.8.11"
  }
 },
 "nbformat": 4,
 "nbformat_minor": 5
}
